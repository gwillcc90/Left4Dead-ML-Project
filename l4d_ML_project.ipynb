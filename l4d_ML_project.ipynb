{
 "cells": [
  {
   "cell_type": "markdown",
   "id": "3879cee1",
   "metadata": {},
   "source": [
    "# Left4Dead Machine Learning Project\n",
    "I used to play Left4Dead and Left4Dead 2 when I was younger, and there is a lot of data available thanks to Jack Lacey on Kaggle.com [1]. This project will showcase usage of ML algorithms and feature engineering to predict playtime."
   ]
  },
  {
   "cell_type": "code",
   "execution_count": null,
   "id": "f0a37a35",
   "metadata": {},
   "outputs": [],
   "source": []
  },
  {
   "cell_type": "code",
   "execution_count": null,
   "id": "d73fca25",
   "metadata": {},
   "outputs": [],
   "source": []
  },
  {
   "cell_type": "code",
   "execution_count": null,
   "id": "a9ae6d44",
   "metadata": {},
   "outputs": [],
   "source": []
  },
  {
   "cell_type": "code",
   "execution_count": null,
   "id": "c6dfca09",
   "metadata": {},
   "outputs": [],
   "source": []
  },
  {
   "cell_type": "markdown",
   "id": "b06ba040",
   "metadata": {},
   "source": [
    "### References\n",
    "https://www.kaggle.com/datasets/jacklacey/left-4-dead-2-20000-player-stats"
   ]
  },
  {
   "cell_type": "code",
   "execution_count": null,
   "id": "4aba05f7",
   "metadata": {},
   "outputs": [],
   "source": []
  }
 ],
 "metadata": {
  "kernelspec": {
   "display_name": "Python 3 (ipykernel)",
   "language": "python",
   "name": "python3"
  },
  "language_info": {
   "codemirror_mode": {
    "name": "ipython",
    "version": 3
   },
   "file_extension": ".py",
   "mimetype": "text/x-python",
   "name": "python",
   "nbconvert_exporter": "python",
   "pygments_lexer": "ipython3",
   "version": "3.9.13"
  }
 },
 "nbformat": 4,
 "nbformat_minor": 5
}
